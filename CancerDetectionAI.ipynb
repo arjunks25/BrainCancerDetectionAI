{
  "nbformat": 4,
  "nbformat_minor": 0,
  "metadata": {
    "colab": {
      "provenance": [],
      "gpuType": "V100",
      "mount_file_id": "1amS2swCgwBzZJQ4W6ibQc0Hyc2LfVTpF",
      "authorship_tag": "ABX9TyOrHolaeOZKmqc3s3pVfqsn",
      "include_colab_link": true
    },
    "kernelspec": {
      "name": "python3",
      "display_name": "Python 3"
    },
    "language_info": {
      "name": "python"
    },
    "accelerator": "GPU"
  },
  "cells": [
    {
      "cell_type": "markdown",
      "metadata": {
        "id": "view-in-github",
        "colab_type": "text"
      },
      "source": [
        "<a href=\"https://colab.research.google.com/github/arjunks25/CancerDetectionAI/blob/main/CancerDetectionAI.ipynb\" target=\"_parent\"><img src=\"https://colab.research.google.com/assets/colab-badge.svg\" alt=\"Open In Colab\"/></a>"
      ]
    },
    {
      "cell_type": "code",
      "source": [
        "from google.colab import drive\n",
        "drive.mount('/content/drive')\n",
        "import zipfile\n",
        "\n",
        "with zipfile.ZipFile('/content/drive/My Drive/BrainMRIDataset.zip', 'r') as zip_ref:\n",
        "    zip_ref.extractall('/content')\n"
      ],
      "metadata": {
        "colab": {
          "base_uri": "https://localhost:8080/"
        },
        "id": "mwiL0HQgc2Dt",
        "outputId": "f1ea7175-a457-4135-cad7-dd34c1c47555"
      },
      "execution_count": 1,
      "outputs": [
        {
          "output_type": "stream",
          "name": "stdout",
          "text": [
            "Drive already mounted at /content/drive; to attempt to forcibly remount, call drive.mount(\"/content/drive\", force_remount=True).\n"
          ]
        }
      ]
    },
    {
      "cell_type": "code",
      "source": [
        "!pip install --upgrade torchvision"
      ],
      "metadata": {
        "id": "7hicH2hZd4j4"
      },
      "execution_count": null,
      "outputs": []
    },
    {
      "cell_type": "code",
      "source": [
        "import torch\n",
        "import torch.nn as nn\n",
        "import torch.optim as optim\n",
        "from torch.utils.data import DataLoader\n",
        "from torchvision import datasets, transforms, models\n",
        "import os\n",
        "\n",
        "# Define data transformations, including data augmentation\n",
        "transform = {\n",
        "    'train': transforms.Compose([\n",
        "        transforms.RandomResizedCrop(224),\n",
        "        transforms.RandomHorizontalFlip(),\n",
        "        transforms.RandomRotation(10),\n",
        "        transforms.ToTensor(),\n",
        "        transforms.Normalize([0.485, 0.456, 0.406], [0.229, 0.224, 0.225])\n",
        "    ]),\n",
        "    'test': transforms.Compose([\n",
        "        transforms.Resize(256),\n",
        "        transforms.CenterCrop(224),\n",
        "        transforms.ToTensor(),\n",
        "        transforms.Normalize([0.485, 0.456, 0.406], [0.229, 0.224, 0.225])\n",
        "    ])\n",
        "}\n",
        "\n",
        "# Define data directories\n",
        "data_dir = '/content'\n",
        "train_dir = os.path.join(data_dir, 'Training')\n",
        "test_dir = os.path.join(data_dir, 'Testing')\n",
        "# Map class labels to cancer types\n",
        "class_to_cancer_type = {\n",
        "    0: \"Glioma Tumor\",\n",
        "    1: \"Meningioma Tumor\",\n",
        "    2: \"No Tumor\",\n",
        "    3: \"Pituitary Tumor\"\n",
        "}\n",
        "# Create data loaders for the training and testing datasets\n",
        "batch_size = 32\n",
        "\n",
        "train_dataset = datasets.ImageFolder(train_dir, transform=transform['train'])\n",
        "train_loader = DataLoader(train_dataset, batch_size=batch_size, shuffle=True)\n",
        "\n",
        "test_dataset = datasets.ImageFolder(test_dir, transform=transform['test'])\n",
        "test_loader = DataLoader(test_dataset, batch_size=batch_size, shuffle=False)\n",
        "\n",
        "# Use a small pre-trained model (ResNet-18) from torchvision\n",
        "model = models.resnet18(pretrained=True)\n",
        "\n",
        "# Modify the classifier to match the number of classes (4 in your case)\n",
        "num_ftrs = model.fc.in_features\n",
        "model.fc = nn.Linear(num_ftrs, 4)\n",
        "\n",
        "# Define loss function and optimizer\n",
        "criterion = nn.CrossEntropyLoss()\n",
        "optimizer = optim.Adam(model.parameters(), lr=0.0001)\n",
        "\n",
        "# Define a learning rate scheduler for better training\n",
        "scheduler = optim.lr_scheduler.StepLR(optimizer, step_size=7, gamma=0.1)\n",
        "\n",
        "early_stopping = 1  # Number of epochs without improvement to wait before stopping\n",
        "best_accuracy = 0.0  # Track the best accuracy\n",
        "wait = 0  # Counter for early stopping"
      ],
      "metadata": {
        "id": "PA4HP-CEdS0P"
      },
      "execution_count": null,
      "outputs": []
    },
    {
      "cell_type": "code",
      "source": [
        "# Training\n",
        "num_epochs = 12\n",
        "\n",
        "for epoch in range(num_epochs):\n",
        "    model.train()\n",
        "    running_loss = 0.0\n",
        "\n",
        "    for images, labels in train_loader:\n",
        "        optimizer.zero_grad()\n",
        "        outputs = model(images)\n",
        "        loss = criterion(outputs, labels)\n",
        "        loss.backward()\n",
        "        optimizer.step()\n",
        "        running_loss += loss.item()\n",
        "\n",
        "\n",
        "    scheduler.step()  # Adjust learning rate\n",
        "\n",
        "    print(f'Epoch {epoch + 1}, Loss: {running_loss / len(train_loader)}')\n",
        "\n",
        "print('Finished Training')"
      ],
      "metadata": {
        "id": "8M-tbR12egwz",
        "colab": {
          "base_uri": "https://localhost:8080/"
        },
        "outputId": "0cd9918e-7c24-4590-da95-9a26d7a404a2"
      },
      "execution_count": null,
      "outputs": [
        {
          "output_type": "stream",
          "name": "stdout",
          "text": [
            "Epoch 1, Loss: 0.41677393239803157\n",
            "Epoch 2, Loss: 0.2156177366662292\n",
            "Epoch 3, Loss: 0.20052473480142027\n",
            "Epoch 4, Loss: 0.16395441136796382\n",
            "Epoch 5, Loss: 0.14947952143847942\n",
            "Epoch 6, Loss: 0.13716440175415417\n",
            "Epoch 7, Loss: 0.1265314271226109\n",
            "Epoch 8, Loss: 0.10231919449821697\n",
            "Epoch 9, Loss: 0.09536494384389683\n",
            "Epoch 10, Loss: 0.08558979674955237\n",
            "Epoch 11, Loss: 0.08257844056101651\n",
            "Epoch 12, Loss: 0.06973916896509641\n",
            "Epoch 13, Loss: 0.08262787218460574\n",
            "Epoch 14, Loss: 0.07676189948867111\n",
            "Epoch 15, Loss: 0.07199795143262551\n",
            "Epoch 16, Loss: 0.06806552323236978\n",
            "Epoch 17, Loss: 0.0696693676986924\n",
            "Epoch 18, Loss: 0.08347048468409138\n",
            "Epoch 19, Loss: 0.07460449083172326\n",
            "Epoch 20, Loss: 0.07678055826980391\n",
            "Epoch 21, Loss: 0.06781260557368647\n",
            "Epoch 22, Loss: 0.06526254781641525\n",
            "Epoch 23, Loss: 0.06983190354521714\n",
            "Epoch 24, Loss: 0.0686210528557194\n",
            "Epoch 25, Loss: 0.06854056322416446\n",
            "Finished Training\n"
          ]
        }
      ]
    },
    {
      "cell_type": "code",
      "source": [
        "# Testing and Calculating Accuracy\n",
        "model.eval()\n",
        "correct = [0, 0, 0, 0]\n",
        "total = [0, 0, 0, 0]\n",
        "\n",
        "with torch.no_grad():\n",
        "    for images, labels in test_loader:\n",
        "        outputs = model(images)\n",
        "        _, predicted = torch.max(outputs.data, 1)\n",
        "        c = (predicted == labels).squeeze()\n",
        "        for i in range(len(labels)):\n",
        "             label = labels[i]\n",
        "             correct[label] += c[i].item()\n",
        "             total[label] += 1\n",
        "\n",
        "overall_accuracy = 100 * sum(correct) / sum(total)\n",
        "\n",
        "if overall_accuracy > best_accuracy:\n",
        "     best_accuracy = overall_accuracy\n",
        "     wait = 0\n",
        "else:\n",
        "    wait += 1\n",
        "\n",
        "print(f'Overall Accuracy on the test set: {overall_accuracy:.2f}%')\n",
        "\n",
        "for i in range(4):\n",
        "    class_accuracy = 100 * correct[i] / total[i]\n",
        "    cancer_type = class_to_cancer_type[i]\n",
        "    print(f'Accuracy for {cancer_type}: {class_accuracy:.2f}%')\n",
        "\n",
        "\n",
        "if wait >= early_stopping:\n",
        "    print(f'Early stopping after {early_stopping} epochs without improvement.')\n",
        "\n",
        "\n",
        "print('Finished Testing')"
      ],
      "metadata": {
        "colab": {
          "base_uri": "https://localhost:8080/"
        },
        "id": "pZ0m0xmVjRBe",
        "outputId": "0a18268a-2276-410c-f26c-e95106644878"
      },
      "execution_count": null,
      "outputs": [
        {
          "output_type": "stream",
          "name": "stdout",
          "text": [
            "Overall Accuracy on the test set: 99.31%\n",
            "Accuracy for Glioma Tumor: 97.67%\n",
            "Accuracy for Meningioma Tumor: 100.00%\n",
            "Accuracy for No Tumor: 100.00%\n",
            "Accuracy for Pituitary Tumor: 99.33%\n",
            "Finished Testing\n"
          ]
        }
      ]
    },
    {
      "cell_type": "code",
      "source": [
        "from google.colab import drive\n",
        "drive.mount('/content/drive')"
      ],
      "metadata": {
        "id": "gD8EAMNP_ycZ"
      },
      "execution_count": null,
      "outputs": []
    },
    {
      "cell_type": "code",
      "source": [
        "# Saving the current model to Google Drive\n",
        "torch.save(model.state_dict(), '/content/drive/My Drive/brain_tumor_model_resnet18.pth')"
      ],
      "metadata": {
        "id": "I0rUUqftoGsb"
      },
      "execution_count": null,
      "outputs": []
    }
  ]
}